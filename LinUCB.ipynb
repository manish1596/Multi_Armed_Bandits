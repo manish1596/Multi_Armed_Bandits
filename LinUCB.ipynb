{
 "cells": [
  {
   "cell_type": "code",
   "execution_count": 1,
   "metadata": {},
   "outputs": [],
   "source": [
    "import numpy as np\n",
    "import matplotlib.pyplot as plt"
   ]
  },
  {
   "cell_type": "code",
   "execution_count": 2,
   "metadata": {},
   "outputs": [],
   "source": [
    "class LinUCB:\n",
    "    def __init__(self, T, d, k, alpha, theta):\n",
    "        self.time_horizon = T\n",
    "        self.context_dim = d\n",
    "        self.arm_count = k\n",
    "        self.alpha = alpha\n",
    "        self.theta = theta\n",
    "        self.A = np.zeros((self.arm_count, self.context_dim, self.context_dim)) + np.eye(self.context_dim)\n",
    "        self.A_inverse = np.zeros_like(self.A)\n",
    "        self.b = np.zeros((self.arm_count, self.context_dim, 1))\n",
    "        self.theta_hat = np.zeros((self.arm_count, self.context_dim, 1))\n",
    "        self.p_curr = np.zeros(self.arm_count)\n",
    "        self.total_reward = 0\n",
    "        self.arm_sample_count = np.zeros(self.arm_count)\n",
    "        self.reward_history = []\n",
    "        self.regret_history = []\n",
    "        \n",
    "    def update(self, arm, context, reward):\n",
    "        self.A[arm] += np.dot(context, context.T)\n",
    "        self.b[arm] += reward*context\n",
    "    \n",
    "    def play(self):\n",
    "        for t in range(self.time_horizon):\n",
    "            contexts = np.random.normal(loc=0.0, scale=1.0, size=(self.arm_count, self.context_dim, 1))\n",
    "            for a in range(self.arm_count):\n",
    "                contexts[a] = np.random.uniform(0.0, 1.0)*contexts[a]/np.linalg.norm(contexts[a])    # L2 norm between 0 and 1\n",
    "                self.A_inverse[a] = np.linalg.inv(self.A[a])\n",
    "            for a in range(self.arm_count):\n",
    "                self.theta_hat[a] = np.dot(self.A_inverse[a],self.b[a])\n",
    "                self.p_curr[a] = float(np.dot(self.theta_hat[a].T, contexts[a]) + self.alpha*np.sqrt(np.dot(np.dot(contexts[a].T, self.A_inverse[a]), contexts[a])))\n",
    "            curr_arm = np.argmax(self.p_curr)\n",
    "            curr_reward = np.random.normal(loc=float(np.dot(self.theta[curr_arm].T, contexts[curr_arm])), scale=0.01)\n",
    "            self.update(curr_arm, contexts[curr_arm], curr_reward)\n",
    "            self.total_reward += curr_reward\n",
    "            self.arm_sample_count[curr_arm] += 1\n",
    "            self.reward_history.append(self.total_reward)\n",
    "            curr_regret = float(np.max(np.sum(np.sum(self.theta*contexts, axis=2), axis=1)) - curr_reward)\n",
    "            if(len(self.regret_history)==0):\n",
    "                self.regret_history.append(curr_regret)\n",
    "            else:\n",
    "                self.regret_history.append(self.regret_history[-1] + curr_regret)"
   ]
  },
  {
   "cell_type": "code",
   "execution_count": 3,
   "metadata": {},
   "outputs": [],
   "source": [
    "d=5\n",
    "k=10\n",
    "T=int(1e5)\n",
    "#alpha= d*np.log(T)\n",
    "alpha=2.0\n",
    "theta = np.random.normal(loc=0, scale=1.0, size=(k, d, 1))\n",
    "for arm in range(k):\n",
    "    theta[arm] = np.random.uniform(0.0,1.0)*theta[arm]/np.linalg.norm(theta[arm])\n",
    "player = LinUCB(T, d, k, alpha, theta)\n",
    "player.play()"
   ]
  },
  {
   "cell_type": "code",
   "execution_count": 4,
   "metadata": {},
   "outputs": [
    {
     "data": {
      "text/plain": [
       "[<matplotlib.lines.Line2D at 0x1192e4a10>]"
      ]
     },
     "execution_count": 4,
     "metadata": {},
     "output_type": "execute_result"
    },
    {
     "data": {
      "image/png": "[encoded data removed]",
      "text/plain": [
       "<Figure size 432x288 with 1 Axes>"
      ]
     },
     "metadata": {
      "needs_background": "light"
     },
     "output_type": "display_data"
    }
   ],
   "source": [
    "plt.plot(player.regret_history)"
   ]
  },
  {
   "cell_type": "code",
   "execution_count": 5,
   "metadata": {},
   "outputs": [
    {
     "name": "stdout",
     "output_type": "stream",
     "text": [
      "[16492. 16158.  6760. 13597.  3059.  3296. 11645.  3499.  8531. 16963.]\n"
     ]
    }
   ],
   "source": [
    "print(player.arm_sample_count)"
   ]
  },
  {
   "cell_type": "code",
   "execution_count": 6,
   "metadata": {},
   "outputs": [
    {
     "name": "stdout",
     "output_type": "stream",
     "text": [
      "16492.0 0.8976324134440734\n",
      "16158.0 0.8786265983148918\n",
      "6760.0 0.33636184898398036\n",
      "13597.0 0.7284564811573574\n",
      "3059.0 0.03425525827497122\n",
      "3296.0 0.08490813339096148\n",
      "11645.0 0.6113562928380092\n",
      "3499.0 0.11091193733686945\n",
      "8531.0 0.44343873470453965\n",
      "16963.0 0.9090155666664752\n"
     ]
    }
   ],
   "source": [
    "for a in range(k):\n",
    "    print(player.arm_sample_count[a], np.linalg.norm(theta[a]))"
   ]
  },
  {
   "cell_type": "code",
   "execution_count": null,
   "metadata": {},
   "outputs": [],
   "source": []
  }
 ],
 "metadata": {
  "kernelspec": {
   "display_name": "Python 3",
   "language": "python",
   "name": "python3"
  },
  "language_info": {
   "codemirror_mode": {
    "name": "ipython",
    "version": 3
   },
   "file_extension": ".py",
   "mimetype": "text/x-python",
   "name": "python",
   "nbconvert_exporter": "python",
   "pygments_lexer": "ipython3",
   "version": "3.7.4"
  }
 },
 "nbformat": 4,
 "nbformat_minor": 2
}
