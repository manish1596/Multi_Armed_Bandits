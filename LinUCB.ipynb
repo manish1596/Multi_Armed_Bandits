{
 "cells": [
  {
   "cell_type": "code",
   "execution_count": 12,
   "metadata": {},
   "outputs": [],
   "source": [
    "import numpy as np\n",
    "from numpy.linalg import inv\n",
    "import matplotlib.pyplot as plt"
   ]
  },
  {
   "cell_type": "code",
   "execution_count": 22,
   "metadata": {},
   "outputs": [],
   "source": [
    "class LinUCB:\n",
    "    def __init__(self, T, d, k, alpha, theta):\n",
    "        self.time_horizon = T\n",
    "        self.context_dim = d\n",
    "        self.arm_count = k\n",
    "        self.alpha = alpha\n",
    "        self.theta = theta\n",
    "        self.A = np.zeros((self.arm_count, self.context_dim, self.context_dim)) + np.eye(self.context_dim)\n",
    "        self.A_inverse = np.zeros_like(self.A)\n",
    "        self.b = np.zeros((self.arm_count, self.context_dim, 1))\n",
    "        self.theta_hat = np.zeros((self.arm_count, self.context_dim, 1))\n",
    "        self.p_curr = np.zeros((self.arm_count))\n",
    "        self.total_reward = 0\n",
    "        self.arm_sample_count = np.zeros(self.arm_count)\n",
    "        self.reward_history = []\n",
    "        self.regret_history = []\n",
    "        \n",
    "    def update(self, arm, context, reward):\n",
    "        self.A[arm] += np.dot(context, context.T)\n",
    "        self.b[arm] += reward*context\n",
    "    \n",
    "    def play(self):\n",
    "        for t in range(self.time_horizon):\n",
    "            contexts = np.random.uniform(0, (1.0/float(self.context_dim)), (self.arm_count, self.context_dim, 1))  # L1 norm between 0 and 1\n",
    "            for a in range(self.arm_count):\n",
    "                self.A_inverse[a] = inv(self.A[a])\n",
    "            for a in range(self.arm_count):\n",
    "                self.theta_hat[a] = np.dot(self.A_inverse[a],self.b[a])\n",
    "                self.p_curr[a] = np.dot(self.theta_hat[a].T, contexts[a]) + self.alpha*np.sqrt(np.dot(np.dot(contexts[a].T, self.A_inverse[a]), contexts[a]))\n",
    "            curr_arm = np.argmax(self.p_curr)\n",
    "            curr_reward = np.random.normal(loc=float(np.dot(self.theta[curr_arm].T, contexts[a])), scale=0.01)\n",
    "            self.update(curr_arm, contexts[a], curr_reward)\n",
    "            self.total_reward += curr_reward\n",
    "            self.arm_sample_count[curr_arm] += 1\n",
    "            self.reward_history.append(self.total_reward)\n",
    "            if(len(self.regret_history)==0):\n",
    "                curr_regret = float(np.max(np.sum(np.sum(self.theta*contexts, axis=2), axis=1)) - curr_reward)\n",
    "                self.regret_history.append(curr_regret)\n",
    "            else:\n",
    "                curr_regret = float(np.max(np.sum(np.sum(self.theta*contexts, axis=2), axis=1)) - curr_reward)\n",
    "                self.regret_history.append(self.regret_history[-1] + curr_regret)"
   ]
  },
  {
   "cell_type": "code",
   "execution_count": 23,
   "metadata": {},
   "outputs": [],
   "source": [
    "theta = np.random.uniform(0, 0.2, size=(10, 5, 1))\n",
    "player = LinUCB(100000, 5, 10, 10.0, theta)\n",
    "player.play()"
   ]
  },
  {
   "cell_type": "code",
   "execution_count": 24,
   "metadata": {},
   "outputs": [
    {
     "data": {
      "text/plain": [
       "[<matplotlib.lines.Line2D at 0x11d329750>]"
      ]
     },
     "execution_count": 24,
     "metadata": {},
     "output_type": "execute_result"
    },
    {
     "data": {
      "image/png": "[encoded data removed]",
      "text/plain": [
       "<Figure size 432x288 with 1 Axes>"
      ]
     },
     "metadata": {
      "needs_background": "light"
     },
     "output_type": "display_data"
    }
   ],
   "source": [
    "plt.plot(player.regret_history)"
   ]
  },
  {
   "cell_type": "code",
   "execution_count": 25,
   "metadata": {},
   "outputs": [
    {
     "name": "stdout",
     "output_type": "stream",
     "text": [
      "[ 8617. 10250.  9004. 10297.  9661. 10890. 11525. 11813. 10970.  6973.]\n"
     ]
    }
   ],
   "source": [
    "print(player.arm_sample_count)"
   ]
  },
  {
   "cell_type": "code",
   "execution_count": null,
   "metadata": {},
   "outputs": [],
   "source": []
  }
 ],
 "metadata": {
  "kernelspec": {
   "display_name": "Python 3",
   "language": "python",
   "name": "python3"
  },
  "language_info": {
   "codemirror_mode": {
    "name": "ipython",
    "version": 3
   },
   "file_extension": ".py",
   "mimetype": "text/x-python",
   "name": "python",
   "nbconvert_exporter": "python",
   "pygments_lexer": "ipython3",
   "version": "3.7.4"
  }
 },
 "nbformat": 4,
 "nbformat_minor": 2
}
